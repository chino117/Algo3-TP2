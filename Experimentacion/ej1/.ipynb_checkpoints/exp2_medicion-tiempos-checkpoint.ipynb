{
 "cells": [
  {
   "cell_type": "code",
   "execution_count": 1,
   "metadata": {},
   "outputs": [
    {
     "name": "stdout",
     "output_type": "stream",
     "text": [
      "3.6.7\n"
     ]
    }
   ],
   "source": [
    "from PIL import Image\n",
    "import colorsys\n",
    "import subprocess \n",
    "import os\n",
    "import sys\n",
    "import matplotlib.pyplot as plt\n",
    "import numpy as np\n",
    "import pandas\n",
    "from platform import python_version\n",
    "print(python_version())"
   ]
  },
  {
   "cell_type": "markdown",
   "metadata": {},
   "source": [
    "## Generación de prueba"
   ]
  },
  {
   "cell_type": "code",
   "execution_count": 2,
   "metadata": {},
   "outputs": [],
   "source": [
    "def preparar_img(name):\n",
    "    img = Image.open(os.path.join(image_path,name)).convert(\"L\")\n",
    "    width, height = img.size\n",
    "    data = \"\"\n",
    "    imgdata = list(img.getdata())\n",
    "    for i in range(0,height):        \n",
    "        indexes = range(i*width,i*width+width)\n",
    "        data = data + \" \".join([str(imgdata[x]) for x in indexes]) + \"\\n\"\n",
    "    input_text = \"{0} {1}\\n{2}\".format(height,width,data)\n",
    "    return (height, width, input_text, img)\n",
    "# def correr(image_name, k, metodo):\n",
    "#     datos_img = preparar_img(image_name)\n",
    "#     completado = subprocess.run([\"../../Resolucion/bin/ej1\", f\"{metodo}\", f\"{k}\"], stdout=subprocess.PIPE, input=datos_img[2], universal_newlines=True)\n",
    "#     if completado.returncode != 0:\n",
    "#         print(f\"ERROR: El programa finalizo de forma incorrecta. Parametros usados: k={k} metodo={metodo}\")"
   ]
  },
  {
   "cell_type": "markdown",
   "metadata": {},
   "source": [
    "## Experimento 1: Tiempo de ejecución según valor de K"
   ]
  },
  {
   "cell_type": "code",
   "execution_count": 12,
   "metadata": {},
   "outputs": [],
   "source": [
    "image_path = \"../datos_entrada/ej1/\"\n",
    "csvFileName=\"./ej1_tiempos.csv\"\n",
    "testCases=\"testCases.in\"\n",
    "test_times = 10\n",
    "images = {\n",
    "        \"test1.jpg\": None\n",
    "}\n",
    "methods = [0,1,2]\n",
    "\n",
    "kRange = range(500,6001,500)\n",
    "for path in images:\n",
    "    images[path] = preparar_img(path)  "
   ]
  },
  {
   "cell_type": "code",
   "execution_count": 16,
   "metadata": {},
   "outputs": [],
   "source": [
    "for k in kRange:\n",
    "    for m in methods:\n",
    "        for imgName,imgData in images.items():\n",
    "            completado = subprocess.run([\"../../Resolucion/bin/ej1\", str(m), str(k), imgName], stdout=subprocess.PIPE, input=imgData[2], universal_newlines=True)\n",
    "            if completado.returncode != 0:\n",
    "                print(\"ERROR: El programa finalizo de forma incorrecta. Parametros usados: k={0} metodo={1}\".format(k,metodo))"
   ]
  },
  {
   "cell_type": "code",
   "execution_count": 17,
   "metadata": {},
   "outputs": [],
   "source": [
    "csv = pandas.read_csv(csvFileName)\n"
   ]
  },
  {
   "cell_type": "code",
   "execution_count": 18,
   "metadata": {},
   "outputs": [
    {
     "data": {
      "image/png": "[encoded data removed]",
      "text/plain": [
       "<Figure size 432x288 with 1 Axes>"
      ]
     },
     "metadata": {
      "needs_background": "light"
     },
     "output_type": "display_data"
    }
   ],
   "source": [
    "plt.clf()\n",
    "for method in csv[\"Metodo\"].unique():\n",
    "    methodResults = csv[csv[\"Metodo\"]==method]\n",
    "    resultsByK = [np.median(methodResults[methodResults[\"k\"] == k][\"Tiempo\"]) for k in kRange]\n",
    "    plt.scatter(kRange,resultsByK,label=method)\n",
    "\n",
    "\n",
    "plt.legend();\n",
    "plt.xlabel(\"Valor de K\")\n",
    "plt.ylabel(\"Tiempo\");\n"
   ]
  },
  {
   "cell_type": "code",
   "execution_count": 19,
   "metadata": {},
   "outputs": [
    {
     "data": {
      "image/png": "[encoded data removed]",
      "text/plain": [
       "<Figure size 432x288 with 1 Axes>"
      ]
     },
     "metadata": {
      "needs_background": "light"
     },
     "output_type": "display_data"
    }
   ],
   "source": [
    "plt.clf()\n",
    "for method in csv[\"Metodo\"].unique():\n",
    "    if method != \"DisjointSet con Arreglo\":\n",
    "        methodResults = csv[csv[\"Metodo\"]==method]\n",
    "        resultsByK = [np.median(methodResults[methodResults[\"k\"] == k][\"Tiempo\"]) for k in kRange]\n",
    "        plt.scatter(kRange,resultsByK,label=method)\n",
    "\n",
    "\n",
    "plt.legend();\n",
    "plt.xlabel(\"Valor de K\")\n",
    "plt.ylabel(\"Tiempo\");\n"
   ]
  },
  {
   "cell_type": "markdown",
   "metadata": {},
   "source": [
    "### HABRIA QUE AGREGAR UN GRAFICO DE CORRELACION?"
   ]
  },
  {
   "cell_type": "markdown",
   "metadata": {},
   "source": [
    "## Experimento 2: Tiempo de ejecución según tamaño de la imagen"
   ]
  },
  {
   "cell_type": "markdown",
   "metadata": {},
   "source": [
    "### Considerando DisjointSet con Arreglo"
   ]
  },
  {
   "cell_type": "code",
   "execution_count": 3,
   "metadata": {},
   "outputs": [],
   "source": [
    "image_path = \"../datos_entrada/ej1/\"\n",
    "csvFileName=\"./ej1_tiempos.csv\"\n",
    "testCases=\"testCases.in\"\n",
    "test_times = 10\n",
    "images = {\n",
    "        \"sintetico_1_320x180.png\": None,\n",
    "        #\"sintetico_1_640x360.png\": None,\n",
    "        #\"sintetico_1_1280x720.png\": None,\n",
    "        #\"sintetico_1_1920x1080.png\": None,\n",
    "}\n",
    "methods = [0,1,2]\n",
    "\n",
    "k = 500\n",
    "for path in images:\n",
    "    images[path] = preparar_img(path)"
   ]
  },
  {
   "cell_type": "code",
   "execution_count": 4,
   "metadata": {},
   "outputs": [],
   "source": [
    "for m in methods:\n",
    "    for imgName,imgData in images.items():\n",
    "        completado = subprocess.run([\"../../Resolucion/bin/ej1\", str(m), str(k), imgName], stdout=subprocess.PIPE, input=imgData[2], universal_newlines=True)\n",
    "        if completado.returncode != 0:\n",
    "            print(\"ERROR: El programa finalizo de forma incorrecta. Parametros usados: k={0} metodo={1}\".format(k,metodo))"
   ]
  },
  {
   "cell_type": "code",
   "execution_count": 5,
   "metadata": {},
   "outputs": [],
   "source": [
    "csv = pandas.read_csv(csvFileName)"
   ]
  },
  {
   "cell_type": "code",
   "execution_count": 7,
   "metadata": {},
   "outputs": [
    {
     "name": "stdout",
     "output_type": "stream",
     "text": [
      "DisjointSet con Arreglo [5364.725]\n",
      "DisjointSet con arbol [9.63416]\n",
      "DisjointSet con arbol y Path Compression [11.973849999999999]\n"
     ]
    },
    {
     "data": {
      "image/png": "[encoded data removed]",
      "text/plain": [
       "<matplotlib.figure.Figure at 0x7fc3187de390>"
      ]
     },
     "metadata": {
      "needs_background": "light"
     },
     "output_type": "display_data"
    }
   ],
   "source": [
    "plt.clf()\n",
    "\n",
    "metodos = csv[\"Metodo\"].unique()\n",
    "tiempos = {}\n",
    "for file in images.keys():\n",
    "    data_x_file = csv[csv[\"Filename\"] == file]\n",
    "\n",
    "    mediciones = {}\n",
    "    for metodo in metodos:\n",
    "        mediciones[metodo] = np.median(data_x_file[data_x_file[\"Metodo\"] == metodo][\"Tiempo\"])\n",
    "    tiempos[file] = mediciones\n",
    "    \n",
    "    \n",
    "tiempos_x_metodos = {}    \n",
    "\n",
    "for metodo in metodos:\n",
    "    tiempos_x_metodos[metodo] = []\n",
    "    for f in tiempos.keys():\n",
    "        tiempos_x_metodos[metodo].append(tiempos[f][metodo])\n",
    "\n",
    "i = 0\n",
    "for k, v in tiempos_x_metodos.items():\n",
    "    print(k, v)\n",
    "    plt.bar([100*j+32*i for j in range(1, len(images.keys())+1)], v, width=32, label=k)\n",
    "    i += 1\n",
    "\n",
    "plt.legend();\n",
    "plt.xlabel(\"Tamaño de la imagen\")\n",
    "plt.ylabel(\"Tiempo\");\n",
    "plt.xticks([100*j+24 for j in range(1, len(images.keys())+1)], [\"320x180\"][:len(images.keys())])\n",
    "plt.yscale('log')"
   ]
  },
  {
   "cell_type": "markdown",
   "metadata": {},
   "source": [
    "Incluso en el caso de la imagen más chica(320x180) el metodo con DisjointSet con Arreglo tarda varios ordenes de magnitud más que los otros dos casos, por lo que de ahora en adelante vamos a descartarlo por ser demasiado lento."
   ]
  },
  {
   "cell_type": "markdown",
   "metadata": {},
   "source": [
    "### Sin considerar DisjointSet con Arreglo"
   ]
  },
  {
   "cell_type": "code",
   "execution_count": 25,
   "metadata": {},
   "outputs": [],
   "source": [
    "image_path = \"../datos_entrada/ej1/\"\n",
    "csvFileName=\"./ej1_tiempos.csv\"\n",
    "testCases=\"testCases.in\"\n",
    "test_times = 10\n",
    "images = {\n",
    "        \"sintetico_1_320x180.png\": None,\n",
    "        \"sintetico_1_640x360.png\": None,\n",
    "        \"sintetico_1_1280x720.png\": None,\n",
    "        \"sintetico_1_1920x1080.png\": None,\n",
    "}\n",
    "methods = [1, 2]\n",
    "\n",
    "k = 500\n",
    "for path in images:\n",
    "    images[path] = preparar_img(path)"
   ]
  },
  {
   "cell_type": "code",
   "execution_count": 99,
   "metadata": {},
   "outputs": [],
   "source": [
    "for m in methods:\n",
    "    for imgName,imgData in images.items():\n",
    "        completado = subprocess.run([\"../../Resolucion/bin/ej1\", str(m), str(k), imgName], stdout=subprocess.PIPE, input=imgData[2], universal_newlines=True)\n",
    "        if completado.returncode != 0:\n",
    "            print(f\"ERROR: El programa finalizo de forma incorrecta. Parametros usados: k={k} metodo={metodo}\")"
   ]
  },
  {
   "cell_type": "code",
   "execution_count": 100,
   "metadata": {},
   "outputs": [],
   "source": [
    "csv = pandas.read_csv(csvFileName)"
   ]
  },
  {
   "cell_type": "code",
   "execution_count": 104,
   "metadata": {},
   "outputs": [
    {
     "name": "stdout",
     "output_type": "stream",
     "text": [
      "DisjointSet con arbol [9.92124, 37.332499999999996, 145.326, 297.644]\n",
      "DisjointSet con arbol y Path Compression [12.2046, 51.11945, 224.74450000000002, 468.841]\n"
     ]
    },
    {
     "data": {
      "text/plain": [
       "([<matplotlib.axis.XTick at 0x7f24a89e7940>,\n",
       "  <matplotlib.axis.XTick at 0x7f24a89e7240>,\n",
       "  <matplotlib.axis.XTick at 0x7f24a89e70f0>,\n",
       "  <matplotlib.axis.XTick at 0x7f24a8999dd8>],\n",
       " <a list of 4 Text xticklabel objects>)"
      ]
     },
     "execution_count": 104,
     "metadata": {},
     "output_type": "execute_result"
    },
    {
     "data": {
      "image/png": "[encoded data removed]",
      "text/plain": [
       "<Figure size 432x288 with 1 Axes>"
      ]
     },
     "metadata": {
      "needs_background": "light"
     },
     "output_type": "display_data"
    }
   ],
   "source": [
    "plt.clf()\n",
    "\n",
    "metodos = [i for i in csv[\"Metodo\"].unique() if i != \"DisjointSet con Arreglo\"]\n",
    "tiempos = {}\n",
    "for file in images.keys():\n",
    "    data_x_file = csv[csv[\"Filename\"] == file]\n",
    "\n",
    "    mediciones = {}\n",
    "    for metodo in metodos:\n",
    "        mediciones[metodo] = np.median(data_x_file[data_x_file[\"Metodo\"] == metodo][\"Tiempo\"])\n",
    "    tiempos[file] = mediciones\n",
    "    \n",
    "    \n",
    "tiempos_x_metodos = {}    \n",
    "\n",
    "for metodo in metodos:\n",
    "    tiempos_x_metodos[metodo] = []\n",
    "    for f in tiempos.keys():\n",
    "        tiempos_x_metodos[metodo].append(tiempos[f][metodo])\n",
    "\n",
    "i = 0\n",
    "for k, v in tiempos_x_metodos.items():\n",
    "    print(k, v)\n",
    "    plt.bar([100*j+32*i for j in range(1, len(images.keys())+1)], v, width=32, label=k)\n",
    "    i += 1\n",
    "\n",
    "plt.legend();\n",
    "plt.xlabel(\"Tamaño de la imagen\")\n",
    "plt.ylabel(\"Tiempo\");\n",
    "plt.xticks([100*j+24 for j in range(1, len(images.keys())+1)], [\"320x180\", \"640x360\", \"1280x720\", \"1920x1080\"][:len(images.keys())])"
   ]
  }
 ],
 "metadata": {
  "kernelspec": {
   "display_name": "Python 3",
   "language": "python",
   "name": "python3"
  },
  "language_info": {
   "codemirror_mode": {
    "name": "ipython",
    "version": 3
   },
   "file_extension": ".py",
   "mimetype": "text/x-python",
   "name": "python",
   "nbconvert_exporter": "python",
   "pygments_lexer": "ipython3",
   "version": "3.6.7"
  }
 },
 "nbformat": 4,
 "nbformat_minor": 2
}
