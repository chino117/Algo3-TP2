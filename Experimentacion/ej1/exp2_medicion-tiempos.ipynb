{
 "cells": [
  {
   "cell_type": "code",
   "execution_count": 1,
   "metadata": {},
   "outputs": [],
   "source": [
    "import pandas as pandas\n",
    "import seaborn as sns\n",
    "import matplotlib.pyplot as plt\n",
    "import numpy as np\n",
    "import pylab as pl\n",
    "import time\n",
    "import os\n",
    "import random\n",
    "sns.set()"
   ]
  },
  {
   "cell_type": "markdown",
   "metadata": {},
   "source": [
    "## Generación de prueba"
   ]
  },
  {
   "cell_type": "code",
   "execution_count": null,
   "metadata": {},
   "outputs": [],
   "source": [
    "image_path = \"../datos_entrada/ej1/\"\n",
    "fileName=\"tests.out\"\n",
    "testCases=\"testCases.in\"\n",
    "test_times = 10\n",
    "images = [\"test1.jpg\"]\n",
    "kRange = range(500,6001,500)\n",
    "\n",
    "for k in kRange:\n",
    "    for image in images:\n",
    "        tempFile = (\"{0}_{1}\").format(image,k)\n",
    "        with open(tempFile, 'w') as f:\n",
    "            f.write(str(n) + \" \" + str(W) + \"\\n\")\n",
    "            for i in range(1,n+1):\n",
    "                f.write(str(random.randint(1, W)) + \" \" + str(random.randint(1, 300)) + \"\\n\")\n",
    "            f.write(\"1 0 0 0\")\n",
    "            f.flush()\n"
   ]
  }
 ],
 "metadata": {
  "kernelspec": {
   "display_name": "Python 3",
   "language": "python",
   "name": "python3"
  },
  "language_info": {
   "codemirror_mode": {
    "name": "ipython",
    "version": 3
   },
   "file_extension": ".py",
   "mimetype": "text/x-python",
   "name": "python",
   "nbconvert_exporter": "python",
   "pygments_lexer": "ipython3",
   "version": "3.6.7"
  }
 },
 "nbformat": 4,
 "nbformat_minor": 2
}
