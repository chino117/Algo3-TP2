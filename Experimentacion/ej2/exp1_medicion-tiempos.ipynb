{
 "cells": [
  {
   "cell_type": "code",
   "execution_count": 84,
   "metadata": {},
   "outputs": [],
   "source": [
    "import subprocess \n",
    "import os\n",
    "import sys\n",
    "import matplotlib.pyplot as plt\n",
    "import numpy as np\n",
    "import pandas\n",
    "import seaborn as sns\n",
    "import itertools\n",
    "import random\n",
    "import math"
   ]
  },
  {
   "cell_type": "markdown",
   "metadata": {},
   "source": [
    "## Generación de prueba"
   ]
  },
  {
   "cell_type": "code",
   "execution_count": 85,
   "metadata": {},
   "outputs": [],
   "source": [
    "input_path = \"../datos_entrada/ej2/\""
   ]
  },
  {
   "cell_type": "code",
   "execution_count": 86,
   "metadata": {},
   "outputs": [],
   "source": [
    "def combinacionValida(n,ejes):\n",
    "    for i in range(n,1,-1):\n",
    "        if len([(x,y) for x,y in ejes if y == i or x == i]) == 0:\n",
    "            return False\n",
    "    return True\n",
    "        "
   ]
  },
  {
   "cell_type": "code",
   "execution_count": 87,
   "metadata": {
    "scrolled": true
   },
   "outputs": [],
   "source": [
    "repeticiones=10\n",
    "tamanios=range(2,11)\n",
    "files = []\n",
    "for n in tamanios:\n",
    "    ejes_posibles = list(itertools.combinations(range(1,n+1),2))\n",
    "    \n",
    "    m = random.randint(1,len(ejes_posibles))\n",
    "    \n",
    "    random.shuffle(ejes_posibles)\n",
    "    while not combinacionValida(n,ejes_posibles[0:m]):\n",
    "        m = m + 1\n",
    "    ejes = ejes_posibles[0:m]\n",
    "    \n",
    "    file = {\n",
    "        \"n\": n,\n",
    "        \"m\": m,\n",
    "        \"name\": f\"exp_random_{n}nodos_{m}ejes.txt\",\n",
    "        \"absPath\": os.path.abspath(f\"{input_path}/exp_random_{n}nodos_{m}ejes.txt\")\n",
    "    }\n",
    "    \n",
    "    f = open(file[\"absPath\"], \"w\")\n",
    "    f.write(f\"{n} {m}\\n\")\n",
    "    for i in range(0,n):\n",
    "        costo = random.randint(1,100)\n",
    "        f.write(f\"{costo}\\n\")\n",
    "    for (src,dest) in ejes:\n",
    "        distancia = random.randint(1,100)\n",
    "        f.write(f\"{src} {dest} {distancia}\\n\")\n",
    "    f.close()\n",
    "    \n",
    "    files.append(file)"
   ]
  },
  {
   "cell_type": "code",
   "execution_count": null,
   "metadata": {},
   "outputs": [],
   "source": [
    "def run(file,metodo):\n",
    "    \n",
    "    completado = subprocess.run([\"../../Resolucion/bin/ej2\",file[\"absPath\"],str(metodo)], stdout=subprocess.PIPE, universal_newlines=True)\n",
    "    if completado.returncode != 0:\n",
    "        return \"ERROR: El programa finalizo de forma incorrecta. Parametros usados: k={0} metodo={1}\".format(k,metodo)\n",
    "    else:\n",
    "        return completado.stdout\n",
    "\n",
    "resultFile = f\"{input_path}/results.txt\"\n",
    "tiempos = \"./ej2_tiempos.csv\"\n",
    "f = open(resultFile,\"a+\")\n",
    "for file in files:\n",
    "    for i in range(1,repeticiones):\n",
    "        if(file[\"n\"] < 7):\n",
    "            f.write(run(file,0)) #Dijkstra Arreglo\n",
    "        f.write(run(file,1)) #Dijkstra Cola\n",
    "        f.write(run(file,2)) #BellmanFord\n",
    "        f.write(run(file,3)) #FloydWarshall    \n",
    "    \n",
    "f.close()"
   ]
  },
  {
   "cell_type": "code",
   "execution_count": 70,
   "metadata": {},
   "outputs": [],
   "source": [
    "csv = pandas.read_csv(tiempos)"
   ]
  },
  {
   "cell_type": "code",
   "execution_count": 71,
   "metadata": {},
   "outputs": [
    {
     "data": {
      "image/png": "[encoded data removed]",
      "text/plain": [
       "<Figure size 432x288 with 1 Axes>"
      ]
     },
     "metadata": {
      "needs_background": "light"
     },
     "output_type": "display_data"
    }
   ],
   "source": [
    "plt.clf()\n",
    "for method in csv[\"Metodo\"].unique():\n",
    "    csvOnlyNames = csv.dropna(subset=['Filename'])\n",
    "    methodResults = csvOnlyNames[csvOnlyNames[\"Metodo\"]==method]\n",
    "    resultsByN = [np.median(methodResults[methodResults[\"n\"] == n][\"Tiempo\"]) for n in tamanios]\n",
    "    plt.scatter(tamanios,resultsByN,label=method)\n",
    "\n",
    "\n",
    "plt.legend();\n",
    "plt.xlabel(\"Valor de N\")\n",
    "plt.ylabel(\"Tiempo\");\n"
   ]
  },
  {
   "cell_type": "code",
   "execution_count": 72,
   "metadata": {
    "scrolled": true
   },
   "outputs": [
    {
     "data": {
      "image/png": "[encoded data removed]",
      "text/plain": [
       "<Figure size 432x288 with 1 Axes>"
      ]
     },
     "metadata": {
      "needs_background": "light"
     },
     "output_type": "display_data"
    }
   ],
   "source": [
    "plt.clf()\n",
    "for method in csv[\"Metodo\"].unique():\n",
    "    if method != \"Dijkstra\":\n",
    "        csvOnlyNames = csv.dropna(subset=['Filename'])\n",
    "        methodResults = csvOnlyNames[csvOnlyNames[\"Metodo\"]==method]\n",
    "        resultsByN = [np.median(methodResults[methodResults[\"n\"] == n][\"Tiempo\"]) for n in tamanios]\n",
    "        plt.scatter(tamanios,resultsByN,label=method)\n",
    "\n",
    "plt.legend();\n",
    "plt.xlabel(\"Valor de N\")\n",
    "plt.ylabel(\"Tiempo\");"
   ]
  },
  {
   "cell_type": "markdown",
   "metadata": {},
   "source": [
    "### Corelación entre tiempo de ejecución y cota de algortimo para cada una de estructuras"
   ]
  },
  {
   "cell_type": "code",
   "execution_count": 83,
   "metadata": {},
   "outputs": [
    {
     "name": "stdout",
     "output_type": "stream",
     "text": [
      "Las cotas calculadas son para la obtención de los caminos de TODAS las ciudades, contemplando que el grafo sobre el cual se aplica el algoritmo tiene 60 veces la cantidad de nodos que el original\n",
      "El coeficiente de correlación de Pearson para Dijkstra con arreglo contra O(n^4) es: 0.9729827473313538\n",
      "El coeficiente de correlación de Pearson para Dijkstra con cola contra O(n^3*log(n)) es: 0.995996966744524\n",
      "El coeficiente de correlación de Pearson para Floyd con contra O(n^3) es: 0.9840774207369586\n",
      "El coeficiente de correlación de Pearson para Bellman con contra O(n^3) es: 0.9972559993717934\n"
     ]
    }
   ],
   "source": [
    "csv[\"nodosEnH\"] = csv[\"n\"] * 60\n",
    "csv[\"logNodosEnH\"] = np.log(csv[\"nodosEnH\"])\n",
    "\n",
    "csv[\"cotaDijkstra-Arreglo\"] = csv[\"n\"] * csv[\"nodosEnH\"]**3\n",
    "csv[\"cotaDijkstra-Cola\"] = csv[\"n\"] * csv[\"nodosEnH\"]**2 * csv[\"logNodosEnH\"]\n",
    "csv[\"cotaFloyd\"] = csv[\"n\"] * csv[\"nodosEnH\"]**2\n",
    "csv[\"cotaBellman\"] = csv[\"n\"] * csv[\"nodosEnH\"]**3\n",
    "\n",
    "csvDijkstraArreglo = csv[csv[\"Metodo\"]==\"Dijkstra\"]\n",
    "csvDijkstraCola = csv[csv[\"Metodo\"]==\"Dijkstra con cola de prioridad\"]\n",
    "csvFloyd = csv[csv[\"Metodo\"]==\"Floyd-Warshall\"]\n",
    "csvBellman = csv[csv[\"Metodo\"]==\"Bellman-Ford\"]\n",
    "\n",
    "c_dijkstraArreglo = np.corrcoef(csvDijkstraArreglo[\"Tiempo\"], csvDijkstraArreglo[\"cotaDijkstra-Arreglo\"])[0, 1]\n",
    "c_dijkstraCola = np.corrcoef(csvDijkstraCola[\"Tiempo\"], csvDijkstraCola[\"cotaDijkstra-Cola\"])[0, 1]\n",
    "c_floyd = np.corrcoef(csvFloyd[\"Tiempo\"], csvFloyd[\"cotaFloyd\"])[0, 1]\n",
    "c_bellman = np.corrcoef(csvBellman[\"Tiempo\"], csvBellman[\"cotaBellman\"])[0, 1]\n",
    "\n",
    "print(\"Las cotas calculadas son para la obtención de los caminos de TODAS las ciudades, contemplando que el grafo sobre el cual se aplica el algoritmo tiene 60 veces la cantidad de nodos que el original\")\n",
    "print(f\"El coeficiente de correlación de Pearson para Dijkstra con arreglo contra O(n^4) es: {c_dijkstraArreglo}\")\n",
    "print(f\"El coeficiente de correlación de Pearson para Dijkstra con cola contra O(n^3*log(n)) es: {c_dijkstraCola}\")\n",
    "print(f\"El coeficiente de correlación de Pearson para Floyd con contra O(n^3) es: {c_floyd}\")\n",
    "print(f\"El coeficiente de correlación de Pearson para Bellman con contra O(n^3) es: {c_bellman}\")"
   ]
  },
  {
   "cell_type": "markdown",
   "metadata": {},
   "source": [
    "## Experimento 2: Tiempo de ejecución según tamaño de la imagen"
   ]
  },
  {
   "cell_type": "markdown",
   "metadata": {},
   "source": [
    "### Considerando DisjointSet con Arreglo"
   ]
  },
  {
   "cell_type": "code",
   "execution_count": 3,
   "metadata": {},
   "outputs": [],
   "source": [
    "image_path = \"../datos_entrada/ej1/\"\n",
    "csvFileName=\"./ej1_tiempos.csv\"\n",
    "testCases=\"testCases.in\"\n",
    "test_times = 10\n",
    "images = {\n",
    "        \"sintetico_1_320x180.png\": None,\n",
    "        #\"sintetico_1_640x360.png\": None,\n",
    "        #\"sintetico_1_1280x720.png\": None,\n",
    "        #\"sintetico_1_1920x1080.png\": None,\n",
    "}\n",
    "methods = [0,1,2]\n",
    "\n",
    "k = 500\n",
    "for path in images:\n",
    "    images[path] = preparar_img(path)"
   ]
  },
  {
   "cell_type": "code",
   "execution_count": 4,
   "metadata": {},
   "outputs": [],
   "source": [
    "for m in methods:\n",
    "    for imgName,imgData in images.items():\n",
    "        completado = subprocess.run([\"../../Resolucion/bin/ej1\", str(m), str(k), imgName], stdout=subprocess.PIPE, input=imgData[2], universal_newlines=True)\n",
    "        if completado.returncode != 0:\n",
    "            print(\"ERROR: El programa finalizo de forma incorrecta. Parametros usados: k={0} metodo={1}\".format(k,metodo))"
   ]
  },
  {
   "cell_type": "code",
   "execution_count": 5,
   "metadata": {},
   "outputs": [],
   "source": [
    "csv = pandas.read_csv(csvFileName)"
   ]
  },
  {
   "cell_type": "code",
   "execution_count": 7,
   "metadata": {},
   "outputs": [
    {
     "name": "stdout",
     "output_type": "stream",
     "text": [
      "DisjointSet con Arreglo [5364.725]\n",
      "DisjointSet con arbol [9.63416]\n",
      "DisjointSet con arbol y Path Compression [11.973849999999999]\n"
     ]
    },
    {
     "data": {
      "image/png": "[encoded data removed]",
      "text/plain": [
       "<matplotlib.figure.Figure at 0x7fc3187de390>"
      ]
     },
     "metadata": {
      "needs_background": "light"
     },
     "output_type": "display_data"
    }
   ],
   "source": [
    "plt.clf()\n",
    "\n",
    "metodos = csv[\"Metodo\"].unique()\n",
    "tiempos = {}\n",
    "for file in images.keys():\n",
    "    data_x_file = csv[csv[\"Filename\"] == file]\n",
    "\n",
    "    mediciones = {}\n",
    "    for metodo in metodos:\n",
    "        mediciones[metodo] = np.median(data_x_file[data_x_file[\"Metodo\"] == metodo][\"Tiempo\"])\n",
    "    tiempos[file] = mediciones\n",
    "    \n",
    "    \n",
    "tiempos_x_metodos = {}    \n",
    "\n",
    "for metodo in metodos:\n",
    "    tiempos_x_metodos[metodo] = []\n",
    "    for f in tiempos.keys():\n",
    "        tiempos_x_metodos[metodo].append(tiempos[f][metodo])\n",
    "\n",
    "i = 0\n",
    "for k, v in tiempos_x_metodos.items():\n",
    "    print(k, v)\n",
    "    plt.bar([100*j+32*i for j in range(1, len(images.keys())+1)], v, width=32, label=k)\n",
    "    i += 1\n",
    "\n",
    "plt.legend();\n",
    "plt.xlabel(\"Tamaño de la imagen\")\n",
    "plt.ylabel(\"Tiempo\");\n",
    "plt.xticks([100*j+24 for j in range(1, len(images.keys())+1)], [\"320x180\"][:len(images.keys())])\n",
    "plt.yscale('log')"
   ]
  },
  {
   "cell_type": "markdown",
   "metadata": {},
   "source": [
    "Incluso en el caso de la imagen más chica(320x180) el metodo con DisjointSet con Arreglo tarda varios ordenes de magnitud más que los otros dos casos, por lo que de ahora en adelante vamos a descartarlo por ser demasiado lento."
   ]
  },
  {
   "cell_type": "markdown",
   "metadata": {},
   "source": [
    "### Sin considerar DisjointSet con Arreglo"
   ]
  },
  {
   "cell_type": "code",
   "execution_count": 25,
   "metadata": {},
   "outputs": [],
   "source": [
    "image_path = \"../datos_entrada/ej1/\"\n",
    "csvFileName=\"./ej1_tiempos.csv\"\n",
    "testCases=\"testCases.in\"\n",
    "test_times = 10\n",
    "images = {\n",
    "        \"sintetico_1_320x180.png\": None,\n",
    "        \"sintetico_1_640x360.png\": None,\n",
    "        \"sintetico_1_1280x720.png\": None,\n",
    "        \"sintetico_1_1920x1080.png\": None,\n",
    "}\n",
    "methods = [1, 2]\n",
    "\n",
    "k = 500\n",
    "for path in images:\n",
    "    images[path] = preparar_img(path)"
   ]
  },
  {
   "cell_type": "code",
   "execution_count": 99,
   "metadata": {},
   "outputs": [],
   "source": [
    "for m in methods:\n",
    "    for imgName,imgData in images.items():\n",
    "        completado = subprocess.run([\"../../Resolucion/bin/ej1\", str(m), str(k), imgName], stdout=subprocess.PIPE, input=imgData[2], universal_newlines=True)\n",
    "        if completado.returncode != 0:\n",
    "            print(f\"ERROR: El programa finalizo de forma incorrecta. Parametros usados: k={k} metodo={metodo}\")"
   ]
  },
  {
   "cell_type": "code",
   "execution_count": 100,
   "metadata": {},
   "outputs": [],
   "source": [
    "csv = pandas.read_csv(csvFileName)"
   ]
  },
  {
   "cell_type": "code",
   "execution_count": 104,
   "metadata": {},
   "outputs": [
    {
     "name": "stdout",
     "output_type": "stream",
     "text": [
      "DisjointSet con arbol [9.92124, 37.332499999999996, 145.326, 297.644]\n",
      "DisjointSet con arbol y Path Compression [12.2046, 51.11945, 224.74450000000002, 468.841]\n"
     ]
    },
    {
     "data": {
      "text/plain": [
       "([<matplotlib.axis.XTick at 0x7f24a89e7940>,\n",
       "  <matplotlib.axis.XTick at 0x7f24a89e7240>,\n",
       "  <matplotlib.axis.XTick at 0x7f24a89e70f0>,\n",
       "  <matplotlib.axis.XTick at 0x7f24a8999dd8>],\n",
       " <a list of 4 Text xticklabel objects>)"
      ]
     },
     "execution_count": 104,
     "metadata": {},
     "output_type": "execute_result"
    },
    {
     "data": {
      "image/png": "[encoded data removed]",
      "text/plain": [
       "<Figure size 432x288 with 1 Axes>"
      ]
     },
     "metadata": {
      "needs_background": "light"
     },
     "output_type": "display_data"
    }
   ],
   "source": [
    "plt.clf()\n",
    "\n",
    "metodos = [i for i in csv[\"Metodo\"].unique() if i != \"DisjointSet con Arreglo\"]\n",
    "tiempos = {}\n",
    "for file in images.keys():\n",
    "    data_x_file = csv[csv[\"Filename\"] == file]\n",
    "\n",
    "    mediciones = {}\n",
    "    for metodo in metodos:\n",
    "        mediciones[metodo] = np.median(data_x_file[data_x_file[\"Metodo\"] == metodo][\"Tiempo\"])\n",
    "    tiempos[file] = mediciones\n",
    "    \n",
    "    \n",
    "tiempos_x_metodos = {}    \n",
    "\n",
    "for metodo in metodos:\n",
    "    tiempos_x_metodos[metodo] = []\n",
    "    for f in tiempos.keys():\n",
    "        tiempos_x_metodos[metodo].append(tiempos[f][metodo])\n",
    "\n",
    "i = 0\n",
    "for k, v in tiempos_x_metodos.items():\n",
    "    print(k, v)\n",
    "    plt.bar([100*j+32*i for j in range(1, len(images.keys())+1)], v, width=32, label=k)\n",
    "    i += 1\n",
    "\n",
    "plt.legend();\n",
    "plt.xlabel(\"Tamaño de la imagen\")\n",
    "plt.ylabel(\"Tiempo\");\n",
    "plt.xticks([100*j+24 for j in range(1, len(images.keys())+1)], [\"320x180\", \"640x360\", \"1280x720\", \"1920x1080\"][:len(images.keys())])"
   ]
  }
 ],
 "metadata": {
  "kernelspec": {
   "display_name": "Python 3",
   "language": "python",
   "name": "python3"
  },
  "language_info": {
   "codemirror_mode": {
    "name": "ipython",
    "version": 3
   },
   "file_extension": ".py",
   "mimetype": "text/x-python",
   "name": "python",
   "nbconvert_exporter": "python",
   "pygments_lexer": "ipython3",
   "version": "3.6.7"
  }
 },
 "nbformat": 4,
 "nbformat_minor": 2
}
