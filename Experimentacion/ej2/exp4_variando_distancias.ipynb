{
 "cells": [
  {
   "cell_type": "code",
   "execution_count": 1,
   "metadata": {},
   "outputs": [],
   "source": [
    "import subprocess \n",
    "import os\n",
    "import sys\n",
    "import matplotlib.pyplot as plt\n",
    "import numpy as np\n",
    "import pandas\n",
    "import seaborn as sns\n",
    "import itertools\n",
    "import random\n",
    "import math"
   ]
  },
  {
   "cell_type": "markdown",
   "metadata": {},
   "source": [
    "## Generación de prueba"
   ]
  },
  {
   "cell_type": "code",
   "execution_count": 2,
   "metadata": {},
   "outputs": [],
   "source": [
    "input_path = \"../datos_entrada/ej2/\""
   ]
  },
  {
   "cell_type": "code",
   "execution_count": 3,
   "metadata": {},
   "outputs": [],
   "source": [
    "def combinacionValida(n,ejes):\n",
    "    for i in range(n,1,-1):\n",
    "        if len([(x,y) for x,y in ejes if y == i or x == i]) == 0:\n",
    "            return False\n",
    "    return True\n",
    "        "
   ]
  },
  {
   "cell_type": "code",
   "execution_count": 7,
   "metadata": {
    "scrolled": true
   },
   "outputs": [],
   "source": [
    "repeticiones=10\n",
    "tamanios=range(4,13,4)\n",
    "files = []\n",
    "caracteristicas = {\n",
    "    \"cercanos\": [0.1,0.3],\n",
    "    \"intermedios\": [0.4,0.6],\n",
    "    \"lejanos\": [0.8,1]\n",
    "}\n",
    "for n in tamanios:\n",
    "    ejes_posibles = list(itertools.combinations(range(1,n+1),2))\n",
    "    \n",
    "    m = random.randint(1,len(ejes_posibles))\n",
    "    \n",
    "    random.shuffle(ejes_posibles)\n",
    "    while not combinacionValida(n,ejes_posibles[0:m]):\n",
    "        m = m + 1\n",
    "    ejes = ejes_posibles[0:m]\n",
    "    \n",
    "    file = {\n",
    "        \"n\": n,\n",
    "        \"m\": m,\n",
    "        \"name\": f\"exp_distancias_{n}nodos_{m}ejes_[caracteristica].txt\",\n",
    "        \"absPath\": os.path.abspath(f\"{input_path}/exp_distancias_{n}nodos_{m}ejes_[caracteristica].txt\")\n",
    "    }\n",
    "    costos = []\n",
    "    for i in range(0,n):\n",
    "        costos.append(random.randint(1,100))\n",
    "                    \n",
    "    for caracteristica,indice in caracteristicas.items():\n",
    "        fileName = file[\"absPath\"].replace(\"[caracteristica]\",caracteristica)\n",
    "        with open(fileName, \"w\") as f:\n",
    "            f.write(f\"{n} {m}\\n\")\n",
    "            for costo in costos:\n",
    "                f.write(f\"{costo}\\n\")\n",
    "            for (src,dest) in ejes:\n",
    "                distancia = random.randint(100*indice[0],100*indice[1])\n",
    "                f.write(f\"{src} {dest} {distancia}\\n\")\n",
    "    files.append(file)"
   ]
  },
  {
   "cell_type": "code",
   "execution_count": 14,
   "metadata": {},
   "outputs": [
    {
     "name": "stdout",
     "output_type": "stream",
     "text": [
      "ejecuto 1 repeticion de /home/ezequiel/Documents/GitRepos/Facu/Algo3_2019c1/tp2/Algo3-TP2/Experimentacion/datos_entrada/ej2/exp_distancias_4nodos_2ejes_cercanos.txt\n",
      "ejecuto 2 repeticion de /home/ezequiel/Documents/GitRepos/Facu/Algo3_2019c1/tp2/Algo3-TP2/Experimentacion/datos_entrada/ej2/exp_distancias_4nodos_2ejes_cercanos.txt\n",
      "ejecuto 3 repeticion de /home/ezequiel/Documents/GitRepos/Facu/Algo3_2019c1/tp2/Algo3-TP2/Experimentacion/datos_entrada/ej2/exp_distancias_4nodos_2ejes_cercanos.txt\n",
      "ejecuto 4 repeticion de /home/ezequiel/Documents/GitRepos/Facu/Algo3_2019c1/tp2/Algo3-TP2/Experimentacion/datos_entrada/ej2/exp_distancias_4nodos_2ejes_cercanos.txt\n",
      "ejecuto 5 repeticion de /home/ezequiel/Documents/GitRepos/Facu/Algo3_2019c1/tp2/Algo3-TP2/Experimentacion/datos_entrada/ej2/exp_distancias_4nodos_2ejes_cercanos.txt\n",
      "ejecuto 6 repeticion de /home/ezequiel/Documents/GitRepos/Facu/Algo3_2019c1/tp2/Algo3-TP2/Experimentacion/datos_entrada/ej2/exp_distancias_4nodos_2ejes_cercanos.txt\n",
      "ejecuto 7 repeticion de /home/ezequiel/Documents/GitRepos/Facu/Algo3_2019c1/tp2/Algo3-TP2/Experimentacion/datos_entrada/ej2/exp_distancias_4nodos_2ejes_cercanos.txt\n",
      "ejecuto 8 repeticion de /home/ezequiel/Documents/GitRepos/Facu/Algo3_2019c1/tp2/Algo3-TP2/Experimentacion/datos_entrada/ej2/exp_distancias_4nodos_2ejes_cercanos.txt\n",
      "ejecuto 9 repeticion de /home/ezequiel/Documents/GitRepos/Facu/Algo3_2019c1/tp2/Algo3-TP2/Experimentacion/datos_entrada/ej2/exp_distancias_4nodos_2ejes_cercanos.txt\n",
      "ejecuto 1 repeticion de /home/ezequiel/Documents/GitRepos/Facu/Algo3_2019c1/tp2/Algo3-TP2/Experimentacion/datos_entrada/ej2/exp_distancias_4nodos_2ejes_intermedios.txt\n",
      "ejecuto 2 repeticion de /home/ezequiel/Documents/GitRepos/Facu/Algo3_2019c1/tp2/Algo3-TP2/Experimentacion/datos_entrada/ej2/exp_distancias_4nodos_2ejes_intermedios.txt\n",
      "ejecuto 3 repeticion de /home/ezequiel/Documents/GitRepos/Facu/Algo3_2019c1/tp2/Algo3-TP2/Experimentacion/datos_entrada/ej2/exp_distancias_4nodos_2ejes_intermedios.txt\n",
      "ejecuto 4 repeticion de /home/ezequiel/Documents/GitRepos/Facu/Algo3_2019c1/tp2/Algo3-TP2/Experimentacion/datos_entrada/ej2/exp_distancias_4nodos_2ejes_intermedios.txt\n",
      "ejecuto 5 repeticion de /home/ezequiel/Documents/GitRepos/Facu/Algo3_2019c1/tp2/Algo3-TP2/Experimentacion/datos_entrada/ej2/exp_distancias_4nodos_2ejes_intermedios.txt\n",
      "ejecuto 6 repeticion de /home/ezequiel/Documents/GitRepos/Facu/Algo3_2019c1/tp2/Algo3-TP2/Experimentacion/datos_entrada/ej2/exp_distancias_4nodos_2ejes_intermedios.txt\n",
      "ejecuto 7 repeticion de /home/ezequiel/Documents/GitRepos/Facu/Algo3_2019c1/tp2/Algo3-TP2/Experimentacion/datos_entrada/ej2/exp_distancias_4nodos_2ejes_intermedios.txt\n",
      "ejecuto 8 repeticion de /home/ezequiel/Documents/GitRepos/Facu/Algo3_2019c1/tp2/Algo3-TP2/Experimentacion/datos_entrada/ej2/exp_distancias_4nodos_2ejes_intermedios.txt\n",
      "ejecuto 9 repeticion de /home/ezequiel/Documents/GitRepos/Facu/Algo3_2019c1/tp2/Algo3-TP2/Experimentacion/datos_entrada/ej2/exp_distancias_4nodos_2ejes_intermedios.txt\n",
      "ejecuto 1 repeticion de /home/ezequiel/Documents/GitRepos/Facu/Algo3_2019c1/tp2/Algo3-TP2/Experimentacion/datos_entrada/ej2/exp_distancias_4nodos_2ejes_lejanos.txt\n",
      "ejecuto 2 repeticion de /home/ezequiel/Documents/GitRepos/Facu/Algo3_2019c1/tp2/Algo3-TP2/Experimentacion/datos_entrada/ej2/exp_distancias_4nodos_2ejes_lejanos.txt\n",
      "ejecuto 3 repeticion de /home/ezequiel/Documents/GitRepos/Facu/Algo3_2019c1/tp2/Algo3-TP2/Experimentacion/datos_entrada/ej2/exp_distancias_4nodos_2ejes_lejanos.txt\n",
      "ejecuto 4 repeticion de /home/ezequiel/Documents/GitRepos/Facu/Algo3_2019c1/tp2/Algo3-TP2/Experimentacion/datos_entrada/ej2/exp_distancias_4nodos_2ejes_lejanos.txt\n",
      "ejecuto 5 repeticion de /home/ezequiel/Documents/GitRepos/Facu/Algo3_2019c1/tp2/Algo3-TP2/Experimentacion/datos_entrada/ej2/exp_distancias_4nodos_2ejes_lejanos.txt\n",
      "ejecuto 6 repeticion de /home/ezequiel/Documents/GitRepos/Facu/Algo3_2019c1/tp2/Algo3-TP2/Experimentacion/datos_entrada/ej2/exp_distancias_4nodos_2ejes_lejanos.txt\n",
      "ejecuto 7 repeticion de /home/ezequiel/Documents/GitRepos/Facu/Algo3_2019c1/tp2/Algo3-TP2/Experimentacion/datos_entrada/ej2/exp_distancias_4nodos_2ejes_lejanos.txt\n",
      "ejecuto 8 repeticion de /home/ezequiel/Documents/GitRepos/Facu/Algo3_2019c1/tp2/Algo3-TP2/Experimentacion/datos_entrada/ej2/exp_distancias_4nodos_2ejes_lejanos.txt\n",
      "ejecuto 9 repeticion de /home/ezequiel/Documents/GitRepos/Facu/Algo3_2019c1/tp2/Algo3-TP2/Experimentacion/datos_entrada/ej2/exp_distancias_4nodos_2ejes_lejanos.txt\n",
      "ejecuto 1 repeticion de /home/ezequiel/Documents/GitRepos/Facu/Algo3_2019c1/tp2/Algo3-TP2/Experimentacion/datos_entrada/ej2/exp_distancias_8nodos_13ejes_cercanos.txt\n",
      "ejecuto 2 repeticion de /home/ezequiel/Documents/GitRepos/Facu/Algo3_2019c1/tp2/Algo3-TP2/Experimentacion/datos_entrada/ej2/exp_distancias_8nodos_13ejes_cercanos.txt\n",
      "ejecuto 3 repeticion de /home/ezequiel/Documents/GitRepos/Facu/Algo3_2019c1/tp2/Algo3-TP2/Experimentacion/datos_entrada/ej2/exp_distancias_8nodos_13ejes_cercanos.txt\n",
      "ejecuto 4 repeticion de /home/ezequiel/Documents/GitRepos/Facu/Algo3_2019c1/tp2/Algo3-TP2/Experimentacion/datos_entrada/ej2/exp_distancias_8nodos_13ejes_cercanos.txt\n",
      "ejecuto 5 repeticion de /home/ezequiel/Documents/GitRepos/Facu/Algo3_2019c1/tp2/Algo3-TP2/Experimentacion/datos_entrada/ej2/exp_distancias_8nodos_13ejes_cercanos.txt\n",
      "ejecuto 6 repeticion de /home/ezequiel/Documents/GitRepos/Facu/Algo3_2019c1/tp2/Algo3-TP2/Experimentacion/datos_entrada/ej2/exp_distancias_8nodos_13ejes_cercanos.txt\n",
      "ejecuto 7 repeticion de /home/ezequiel/Documents/GitRepos/Facu/Algo3_2019c1/tp2/Algo3-TP2/Experimentacion/datos_entrada/ej2/exp_distancias_8nodos_13ejes_cercanos.txt\n",
      "ejecuto 8 repeticion de /home/ezequiel/Documents/GitRepos/Facu/Algo3_2019c1/tp2/Algo3-TP2/Experimentacion/datos_entrada/ej2/exp_distancias_8nodos_13ejes_cercanos.txt\n",
      "ejecuto 9 repeticion de /home/ezequiel/Documents/GitRepos/Facu/Algo3_2019c1/tp2/Algo3-TP2/Experimentacion/datos_entrada/ej2/exp_distancias_8nodos_13ejes_cercanos.txt\n",
      "ejecuto 1 repeticion de /home/ezequiel/Documents/GitRepos/Facu/Algo3_2019c1/tp2/Algo3-TP2/Experimentacion/datos_entrada/ej2/exp_distancias_8nodos_13ejes_intermedios.txt\n",
      "ejecuto 2 repeticion de /home/ezequiel/Documents/GitRepos/Facu/Algo3_2019c1/tp2/Algo3-TP2/Experimentacion/datos_entrada/ej2/exp_distancias_8nodos_13ejes_intermedios.txt\n",
      "ejecuto 3 repeticion de /home/ezequiel/Documents/GitRepos/Facu/Algo3_2019c1/tp2/Algo3-TP2/Experimentacion/datos_entrada/ej2/exp_distancias_8nodos_13ejes_intermedios.txt\n",
      "ejecuto 4 repeticion de /home/ezequiel/Documents/GitRepos/Facu/Algo3_2019c1/tp2/Algo3-TP2/Experimentacion/datos_entrada/ej2/exp_distancias_8nodos_13ejes_intermedios.txt\n",
      "ejecuto 5 repeticion de /home/ezequiel/Documents/GitRepos/Facu/Algo3_2019c1/tp2/Algo3-TP2/Experimentacion/datos_entrada/ej2/exp_distancias_8nodos_13ejes_intermedios.txt\n",
      "ejecuto 6 repeticion de /home/ezequiel/Documents/GitRepos/Facu/Algo3_2019c1/tp2/Algo3-TP2/Experimentacion/datos_entrada/ej2/exp_distancias_8nodos_13ejes_intermedios.txt\n",
      "ejecuto 7 repeticion de /home/ezequiel/Documents/GitRepos/Facu/Algo3_2019c1/tp2/Algo3-TP2/Experimentacion/datos_entrada/ej2/exp_distancias_8nodos_13ejes_intermedios.txt\n",
      "ejecuto 8 repeticion de /home/ezequiel/Documents/GitRepos/Facu/Algo3_2019c1/tp2/Algo3-TP2/Experimentacion/datos_entrada/ej2/exp_distancias_8nodos_13ejes_intermedios.txt\n",
      "ejecuto 9 repeticion de /home/ezequiel/Documents/GitRepos/Facu/Algo3_2019c1/tp2/Algo3-TP2/Experimentacion/datos_entrada/ej2/exp_distancias_8nodos_13ejes_intermedios.txt\n",
      "ejecuto 1 repeticion de /home/ezequiel/Documents/GitRepos/Facu/Algo3_2019c1/tp2/Algo3-TP2/Experimentacion/datos_entrada/ej2/exp_distancias_8nodos_13ejes_lejanos.txt\n",
      "ejecuto 2 repeticion de /home/ezequiel/Documents/GitRepos/Facu/Algo3_2019c1/tp2/Algo3-TP2/Experimentacion/datos_entrada/ej2/exp_distancias_8nodos_13ejes_lejanos.txt\n",
      "ejecuto 3 repeticion de /home/ezequiel/Documents/GitRepos/Facu/Algo3_2019c1/tp2/Algo3-TP2/Experimentacion/datos_entrada/ej2/exp_distancias_8nodos_13ejes_lejanos.txt\n",
      "ejecuto 4 repeticion de /home/ezequiel/Documents/GitRepos/Facu/Algo3_2019c1/tp2/Algo3-TP2/Experimentacion/datos_entrada/ej2/exp_distancias_8nodos_13ejes_lejanos.txt\n",
      "ejecuto 5 repeticion de /home/ezequiel/Documents/GitRepos/Facu/Algo3_2019c1/tp2/Algo3-TP2/Experimentacion/datos_entrada/ej2/exp_distancias_8nodos_13ejes_lejanos.txt\n"
     ]
    },
    {
     "name": "stdout",
     "output_type": "stream",
     "text": [
      "ejecuto 6 repeticion de /home/ezequiel/Documents/GitRepos/Facu/Algo3_2019c1/tp2/Algo3-TP2/Experimentacion/datos_entrada/ej2/exp_distancias_8nodos_13ejes_lejanos.txt\n",
      "ejecuto 7 repeticion de /home/ezequiel/Documents/GitRepos/Facu/Algo3_2019c1/tp2/Algo3-TP2/Experimentacion/datos_entrada/ej2/exp_distancias_8nodos_13ejes_lejanos.txt\n",
      "ejecuto 8 repeticion de /home/ezequiel/Documents/GitRepos/Facu/Algo3_2019c1/tp2/Algo3-TP2/Experimentacion/datos_entrada/ej2/exp_distancias_8nodos_13ejes_lejanos.txt\n",
      "ejecuto 9 repeticion de /home/ezequiel/Documents/GitRepos/Facu/Algo3_2019c1/tp2/Algo3-TP2/Experimentacion/datos_entrada/ej2/exp_distancias_8nodos_13ejes_lejanos.txt\n",
      "ejecuto 1 repeticion de /home/ezequiel/Documents/GitRepos/Facu/Algo3_2019c1/tp2/Algo3-TP2/Experimentacion/datos_entrada/ej2/exp_distancias_12nodos_32ejes_cercanos.txt\n",
      "ejecuto 2 repeticion de /home/ezequiel/Documents/GitRepos/Facu/Algo3_2019c1/tp2/Algo3-TP2/Experimentacion/datos_entrada/ej2/exp_distancias_12nodos_32ejes_cercanos.txt\n",
      "ejecuto 3 repeticion de /home/ezequiel/Documents/GitRepos/Facu/Algo3_2019c1/tp2/Algo3-TP2/Experimentacion/datos_entrada/ej2/exp_distancias_12nodos_32ejes_cercanos.txt\n",
      "ejecuto 4 repeticion de /home/ezequiel/Documents/GitRepos/Facu/Algo3_2019c1/tp2/Algo3-TP2/Experimentacion/datos_entrada/ej2/exp_distancias_12nodos_32ejes_cercanos.txt\n",
      "ejecuto 5 repeticion de /home/ezequiel/Documents/GitRepos/Facu/Algo3_2019c1/tp2/Algo3-TP2/Experimentacion/datos_entrada/ej2/exp_distancias_12nodos_32ejes_cercanos.txt\n",
      "ejecuto 6 repeticion de /home/ezequiel/Documents/GitRepos/Facu/Algo3_2019c1/tp2/Algo3-TP2/Experimentacion/datos_entrada/ej2/exp_distancias_12nodos_32ejes_cercanos.txt\n",
      "ejecuto 7 repeticion de /home/ezequiel/Documents/GitRepos/Facu/Algo3_2019c1/tp2/Algo3-TP2/Experimentacion/datos_entrada/ej2/exp_distancias_12nodos_32ejes_cercanos.txt\n",
      "ejecuto 8 repeticion de /home/ezequiel/Documents/GitRepos/Facu/Algo3_2019c1/tp2/Algo3-TP2/Experimentacion/datos_entrada/ej2/exp_distancias_12nodos_32ejes_cercanos.txt\n",
      "ejecuto 9 repeticion de /home/ezequiel/Documents/GitRepos/Facu/Algo3_2019c1/tp2/Algo3-TP2/Experimentacion/datos_entrada/ej2/exp_distancias_12nodos_32ejes_cercanos.txt\n",
      "ejecuto 1 repeticion de /home/ezequiel/Documents/GitRepos/Facu/Algo3_2019c1/tp2/Algo3-TP2/Experimentacion/datos_entrada/ej2/exp_distancias_12nodos_32ejes_intermedios.txt\n",
      "ejecuto 2 repeticion de /home/ezequiel/Documents/GitRepos/Facu/Algo3_2019c1/tp2/Algo3-TP2/Experimentacion/datos_entrada/ej2/exp_distancias_12nodos_32ejes_intermedios.txt\n",
      "ejecuto 3 repeticion de /home/ezequiel/Documents/GitRepos/Facu/Algo3_2019c1/tp2/Algo3-TP2/Experimentacion/datos_entrada/ej2/exp_distancias_12nodos_32ejes_intermedios.txt\n",
      "ejecuto 4 repeticion de /home/ezequiel/Documents/GitRepos/Facu/Algo3_2019c1/tp2/Algo3-TP2/Experimentacion/datos_entrada/ej2/exp_distancias_12nodos_32ejes_intermedios.txt\n",
      "ejecuto 5 repeticion de /home/ezequiel/Documents/GitRepos/Facu/Algo3_2019c1/tp2/Algo3-TP2/Experimentacion/datos_entrada/ej2/exp_distancias_12nodos_32ejes_intermedios.txt\n",
      "ejecuto 6 repeticion de /home/ezequiel/Documents/GitRepos/Facu/Algo3_2019c1/tp2/Algo3-TP2/Experimentacion/datos_entrada/ej2/exp_distancias_12nodos_32ejes_intermedios.txt\n",
      "ejecuto 7 repeticion de /home/ezequiel/Documents/GitRepos/Facu/Algo3_2019c1/tp2/Algo3-TP2/Experimentacion/datos_entrada/ej2/exp_distancias_12nodos_32ejes_intermedios.txt\n",
      "ejecuto 8 repeticion de /home/ezequiel/Documents/GitRepos/Facu/Algo3_2019c1/tp2/Algo3-TP2/Experimentacion/datos_entrada/ej2/exp_distancias_12nodos_32ejes_intermedios.txt\n",
      "ejecuto 9 repeticion de /home/ezequiel/Documents/GitRepos/Facu/Algo3_2019c1/tp2/Algo3-TP2/Experimentacion/datos_entrada/ej2/exp_distancias_12nodos_32ejes_intermedios.txt\n",
      "ejecuto 1 repeticion de /home/ezequiel/Documents/GitRepos/Facu/Algo3_2019c1/tp2/Algo3-TP2/Experimentacion/datos_entrada/ej2/exp_distancias_12nodos_32ejes_lejanos.txt\n",
      "ejecuto 2 repeticion de /home/ezequiel/Documents/GitRepos/Facu/Algo3_2019c1/tp2/Algo3-TP2/Experimentacion/datos_entrada/ej2/exp_distancias_12nodos_32ejes_lejanos.txt\n",
      "ejecuto 3 repeticion de /home/ezequiel/Documents/GitRepos/Facu/Algo3_2019c1/tp2/Algo3-TP2/Experimentacion/datos_entrada/ej2/exp_distancias_12nodos_32ejes_lejanos.txt\n",
      "ejecuto 4 repeticion de /home/ezequiel/Documents/GitRepos/Facu/Algo3_2019c1/tp2/Algo3-TP2/Experimentacion/datos_entrada/ej2/exp_distancias_12nodos_32ejes_lejanos.txt\n",
      "ejecuto 5 repeticion de /home/ezequiel/Documents/GitRepos/Facu/Algo3_2019c1/tp2/Algo3-TP2/Experimentacion/datos_entrada/ej2/exp_distancias_12nodos_32ejes_lejanos.txt\n",
      "ejecuto 6 repeticion de /home/ezequiel/Documents/GitRepos/Facu/Algo3_2019c1/tp2/Algo3-TP2/Experimentacion/datos_entrada/ej2/exp_distancias_12nodos_32ejes_lejanos.txt\n",
      "ejecuto 7 repeticion de /home/ezequiel/Documents/GitRepos/Facu/Algo3_2019c1/tp2/Algo3-TP2/Experimentacion/datos_entrada/ej2/exp_distancias_12nodos_32ejes_lejanos.txt\n",
      "ejecuto 8 repeticion de /home/ezequiel/Documents/GitRepos/Facu/Algo3_2019c1/tp2/Algo3-TP2/Experimentacion/datos_entrada/ej2/exp_distancias_12nodos_32ejes_lejanos.txt\n",
      "ejecuto 9 repeticion de /home/ezequiel/Documents/GitRepos/Facu/Algo3_2019c1/tp2/Algo3-TP2/Experimentacion/datos_entrada/ej2/exp_distancias_12nodos_32ejes_lejanos.txt\n"
     ]
    }
   ],
   "source": [
    "def run(fileName, metodo):\n",
    "    completado = subprocess.run([\"../../Resolucion/bin/ej2\",fileName,str(metodo)], stdout=subprocess.PIPE, universal_newlines=True)\n",
    "    if completado.returncode != 0:\n",
    "        return \"ERROR: El programa finalizo de forma incorrecta\"\n",
    "    else:\n",
    "        return completado.stdout\n",
    "\n",
    "resultFile = f\"{input_path}/results.txt\"\n",
    "tiempos = \"./ej2_tiempos.csv\"\n",
    "with open(resultFile,\"a+\") as f:\n",
    "    for file in files:\n",
    "        for caracteristica in caracteristicas.keys():\n",
    "            fileName = file[\"absPath\"].replace(\"[caracteristica]\",caracteristica)\n",
    "            for i in range(1,repeticiones):\n",
    "                print(f\"ejecuto {i} repeticion de {fileName}\")\n",
    "#                 if(file[\"n\"] < 5):\n",
    "#                     f.write(run(fileName, 0)) #Dijkstra Arreglo\n",
    "                f.write(run(fileName, 1)) #Dijkstra Cola\n",
    "                f.write(run(fileName, 2)) #BellmanFord\n",
    "                f.write(run(fileName, 3)) #FloydWarshall    "
   ]
  },
  {
   "cell_type": "code",
   "execution_count": 5,
   "metadata": {},
   "outputs": [],
   "source": [
    "csv = pandas.read_csv(tiempos)"
   ]
  },
  {
   "cell_type": "code",
   "execution_count": 6,
   "metadata": {},
   "outputs": [
    {
     "ename": "NameError",
     "evalue": "name 'caracteristicas' is not defined",
     "output_type": "error",
     "traceback": [
      "\u001b[0;31m---------------------------------------------------------------------------\u001b[0m",
      "\u001b[0;31mNameError\u001b[0m                                 Traceback (most recent call last)",
      "\u001b[0;32m<ipython-input-6-b56937e4d37e>\u001b[0m in \u001b[0;36m<module>\u001b[0;34m\u001b[0m\n\u001b[1;32m      2\u001b[0m \u001b[0;32mfor\u001b[0m \u001b[0mmethod\u001b[0m \u001b[0;32min\u001b[0m \u001b[0mcsv\u001b[0m\u001b[0;34m[\u001b[0m\u001b[0;34m\"Metodo\"\u001b[0m\u001b[0;34m]\u001b[0m\u001b[0;34m.\u001b[0m\u001b[0munique\u001b[0m\u001b[0;34m(\u001b[0m\u001b[0;34m)\u001b[0m\u001b[0;34m:\u001b[0m\u001b[0;34m\u001b[0m\u001b[0;34m\u001b[0m\u001b[0m\n\u001b[1;32m      3\u001b[0m     \u001b[0;32mif\u001b[0m \u001b[0mmethod\u001b[0m \u001b[0;34m!=\u001b[0m \u001b[0;34m\"Dijkstra\"\u001b[0m\u001b[0;34m:\u001b[0m\u001b[0;34m\u001b[0m\u001b[0;34m\u001b[0m\u001b[0m\n\u001b[0;32m----> 4\u001b[0;31m         \u001b[0;32mfor\u001b[0m \u001b[0mcaracteristica\u001b[0m \u001b[0;32min\u001b[0m \u001b[0mcaracteristicas\u001b[0m\u001b[0;34m.\u001b[0m\u001b[0mkeys\u001b[0m\u001b[0;34m(\u001b[0m\u001b[0;34m)\u001b[0m\u001b[0;34m:\u001b[0m\u001b[0;34m\u001b[0m\u001b[0;34m\u001b[0m\u001b[0m\n\u001b[0m\u001b[1;32m      5\u001b[0m             \u001b[0mcsvOnlyNames\u001b[0m \u001b[0;34m=\u001b[0m \u001b[0mcsv\u001b[0m\u001b[0;34m.\u001b[0m\u001b[0mdropna\u001b[0m\u001b[0;34m(\u001b[0m\u001b[0msubset\u001b[0m\u001b[0;34m=\u001b[0m\u001b[0;34m[\u001b[0m\u001b[0;34m'Filename'\u001b[0m\u001b[0;34m]\u001b[0m\u001b[0;34m)\u001b[0m\u001b[0;34m\u001b[0m\u001b[0;34m\u001b[0m\u001b[0m\n\u001b[1;32m      6\u001b[0m \u001b[0;34m\u001b[0m\u001b[0m\n",
      "\u001b[0;31mNameError\u001b[0m: name 'caracteristicas' is not defined"
     ]
    },
    {
     "data": {
      "text/plain": [
       "<Figure size 432x288 with 0 Axes>"
      ]
     },
     "metadata": {},
     "output_type": "display_data"
    }
   ],
   "source": [
    "plt.clf()\n",
    "for method in csv[\"Metodo\"].unique():\n",
    "    for caracteristica in caracteristicas.keys():\n",
    "        csvOnlyNames = csv.dropna(subset=['Filename'])\n",
    "        \n",
    "        methodResults = csvOnlyNames[(csvOnlyNames[\"Metodo\"]==method) & (csvOnlyNames['Filename'].str.endswith(f\"{caracteristica}.txt\"))]\n",
    "        resultsByN = [np.median(methodResults[methodResults[\"n\"] == n][\"Tiempo\"]) for n in tamanios]\n",
    "        \n",
    "        plt.scatter(tamanios,resultsByN,label=f\"{method}-{caracteristica}\")\n",
    "        plt.plot(tamanios,resultsByN, linestyle='-')\n",
    "\n",
    "\n",
    "plt.legend();\n",
    "plt.xlabel(\"Valor de N\")\n",
    "plt.ylabel(\"Tiempo\");\n",
    "\n",
    "fig = plt.gcf()\n",
    "fig.set_size_inches(18.5, 10.5)"
   ]
  },
  {
   "cell_type": "code",
   "execution_count": 8,
   "metadata": {
    "scrolled": true
   },
   "outputs": [
    {
     "data": {
      "image/png": "[encoded data removed]",
      "text/plain": [
       "<Figure size 432x288 with 1 Axes>"
      ]
     },
     "metadata": {
      "needs_background": "light"
     },
     "output_type": "display_data"
    }
   ],
   "source": [
    "plt.clf()\n",
    "for method in csv[\"Metodo\"].unique():\n",
    "    if method != \"Dijkstra\":\n",
    "        csvOnlyNames = csv.dropna(subset=['Filename'])\n",
    "        methodResults = csvOnlyNames[csvOnlyNames[\"Metodo\"]==method]\n",
    "        resultsByN = [np.median(methodResults[methodResults[\"n\"] == n][\"Tiempo\"]) for n in tamanios]\n",
    "        plt.scatter(tamanios,resultsByN,label=method)\n",
    "        plt.plot(tamanios,resultsByN, linestyle='-')\n",
    "\n",
    "plt.legend();\n",
    "plt.xlabel(\"Valor de N\")\n",
    "plt.ylabel(\"Tiempo\");"
   ]
  },
  {
   "cell_type": "markdown",
   "metadata": {},
   "source": [
    "### Corelación entre tiempo de ejecución y cota de algortimo para cada una de estructuras"
   ]
  },
  {
   "cell_type": "code",
   "execution_count": 9,
   "metadata": {},
   "outputs": [
    {
     "name": "stdout",
     "output_type": "stream",
     "text": [
      "Las cotas calculadas son para la obtención de los caminos de TODAS las ciudades, contemplando que el grafo sobre el cual se aplica el algoritmo tiene 60 veces la cantidad de nodos que el original\n",
      "El coeficiente de correlación de Pearson para Dijkstra con arreglo contra O(n^4) es: 0.9649990659844514\n",
      "El coeficiente de correlación de Pearson para Dijkstra con cola contra O(n^3*log(n)) es: 0.8370003592351584\n",
      "El coeficiente de correlación de Pearson para Floyd con contra O(n^3) es: 0.9787192605882413\n",
      "El coeficiente de correlación de Pearson para Bellman con contra O(n^3) es: 0.9918415260245826\n"
     ]
    }
   ],
   "source": [
    "csv[\"nodosEnH\"] = csv[\"n\"] * 60\n",
    "csv[\"logNodosEnH\"] = np.log(csv[\"nodosEnH\"])\n",
    "\n",
    "csv[\"cotaDijkstra-Arreglo\"] = csv[\"n\"] * csv[\"nodosEnH\"]**3\n",
    "csv[\"cotaDijkstra-Cola\"] = csv[\"n\"] * csv[\"nodosEnH\"]**2 * csv[\"logNodosEnH\"]\n",
    "csv[\"cotaFloyd\"] = csv[\"n\"] * csv[\"nodosEnH\"]**2\n",
    "csv[\"cotaBellman\"] = csv[\"n\"] * csv[\"nodosEnH\"]**3\n",
    "\n",
    "csvDijkstraArreglo = csv[csv[\"Metodo\"]==\"Dijkstra\"]\n",
    "csvDijkstraCola = csv[csv[\"Metodo\"]==\"Dijkstra con cola de prioridad\"]\n",
    "csvFloyd = csv[csv[\"Metodo\"]==\"Floyd-Warshall\"]\n",
    "csvBellman = csv[csv[\"Metodo\"]==\"Bellman-Ford\"]\n",
    "\n",
    "c_dijkstraArreglo = np.corrcoef(csvDijkstraArreglo[\"Tiempo\"], csvDijkstraArreglo[\"cotaDijkstra-Arreglo\"])[0, 1]\n",
    "c_dijkstraCola = np.corrcoef(csvDijkstraCola[\"Tiempo\"], csvDijkstraCola[\"cotaDijkstra-Cola\"])[0, 1]\n",
    "c_floyd = np.corrcoef(csvFloyd[\"Tiempo\"], csvFloyd[\"cotaFloyd\"])[0, 1]\n",
    "c_bellman = np.corrcoef(csvBellman[\"Tiempo\"], csvBellman[\"cotaBellman\"])[0, 1]\n",
    "\n",
    "print(\"Las cotas calculadas son para la obtención de los caminos de TODAS las ciudades, contemplando que el grafo sobre el cual se aplica el algoritmo tiene 60 veces la cantidad de nodos que el original\")\n",
    "print(f\"El coeficiente de correlación de Pearson para Dijkstra con arreglo contra O(n^4) es: {c_dijkstraArreglo}\")\n",
    "print(f\"El coeficiente de correlación de Pearson para Dijkstra con cola contra O(n^3*log(n)) es: {c_dijkstraCola}\")\n",
    "print(f\"El coeficiente de correlación de Pearson para Floyd con contra O(n^3) es: {c_floyd}\")\n",
    "print(f\"El coeficiente de correlación de Pearson para Bellman con contra O(n^3) es: {c_bellman}\")"
   ]
  },
  {
   "cell_type": "markdown",
   "metadata": {},
   "source": [
    "## Limpiar archivos"
   ]
  },
  {
   "cell_type": "code",
   "execution_count": 12,
   "metadata": {},
   "outputs": [],
   "source": [
    "for file in files:\n",
    "    for caracteristica,indice in caracteristicas.items():\n",
    "        fileName = file[\"absPath\"].replace(\"[caracteristica]\",caracteristica)\n",
    "        os.remove(fileName)"
   ]
  },
  {
   "cell_type": "code",
   "execution_count": null,
   "metadata": {},
   "outputs": [],
   "source": []
  }
 ],
 "metadata": {
  "kernelspec": {
   "display_name": "Python 3",
   "language": "python",
   "name": "python3"
  },
  "language_info": {
   "codemirror_mode": {
    "name": "ipython",
    "version": 3
   },
   "file_extension": ".py",
   "mimetype": "text/x-python",
   "name": "python",
   "nbconvert_exporter": "python",
   "pygments_lexer": "ipython3",
   "version": "3.7.3"
  }
 },
 "nbformat": 4,
 "nbformat_minor": 2
}
