{
 "cells": [
  {
   "cell_type": "code",
   "execution_count": 4,
   "metadata": {},
   "outputs": [],
   "source": [
    "import subprocess \n",
    "import os\n",
    "import sys\n",
    "import matplotlib.pyplot as plt\n",
    "import numpy as np\n",
    "import pandas\n",
    "import seaborn as sns\n",
    "import itertools\n",
    "import random\n",
    "import math"
   ]
  },
  {
   "cell_type": "markdown",
   "metadata": {},
   "source": [
    "## Generación de prueba"
   ]
  },
  {
   "cell_type": "code",
   "execution_count": 5,
   "metadata": {},
   "outputs": [],
   "source": [
    "input_path = \"../datos_entrada/ej2/\""
   ]
  },
  {
   "cell_type": "code",
   "execution_count": 6,
   "metadata": {},
   "outputs": [],
   "source": [
    "def combinacionValida(n,ejes):\n",
    "    for i in range(n,1,-1):\n",
    "        if len([(x,y) for x,y in ejes if y == i or x == i]) == 0:\n",
    "            return False\n",
    "    return True\n",
    "        "
   ]
  },
  {
   "cell_type": "code",
   "execution_count": 15,
   "metadata": {
    "scrolled": true
   },
   "outputs": [
    {
     "name": "stdout",
     "output_type": "stream",
     "text": [
      "cercanos\n",
      "[0.1, 0.3]\n",
      "intermedios\n",
      "[0.4, 0.6]\n",
      "lejanos\n",
      "[0.8, 1]\n",
      "cercanos\n",
      "[0.1, 0.3]\n",
      "intermedios\n",
      "[0.4, 0.6]\n",
      "lejanos\n",
      "[0.8, 1]\n",
      "cercanos\n",
      "[0.1, 0.3]\n",
      "intermedios\n",
      "[0.4, 0.6]\n",
      "lejanos\n",
      "[0.8, 1]\n",
      "cercanos\n",
      "[0.1, 0.3]\n",
      "intermedios\n",
      "[0.4, 0.6]\n",
      "lejanos\n",
      "[0.8, 1]\n",
      "cercanos\n",
      "[0.1, 0.3]\n",
      "intermedios\n",
      "[0.4, 0.6]\n",
      "lejanos\n",
      "[0.8, 1]\n",
      "cercanos\n",
      "[0.1, 0.3]\n",
      "intermedios\n",
      "[0.4, 0.6]\n",
      "lejanos\n",
      "[0.8, 1]\n"
     ]
    }
   ],
   "source": [
    "repeticiones=10\n",
    "tamanios=range(5,31,5)\n",
    "files = []\n",
    "caracteristicas = {\n",
    "    \"cercanos\": [0.1,0.3],\n",
    "    \"intermedios\": [0.4,0.6],\n",
    "    \"lejanos\": [0.8,1]\n",
    "}\n",
    "for n in tamanios:\n",
    "    ejes_posibles = list(itertools.combinations(range(1,n+1),2))\n",
    "    \n",
    "    m = random.randint(1,len(ejes_posibles))\n",
    "    \n",
    "    random.shuffle(ejes_posibles)\n",
    "    while not combinacionValida(n,ejes_posibles[0:m]):\n",
    "        m = m + 1\n",
    "    ejes = ejes_posibles[0:m]\n",
    "    \n",
    "    file = {\n",
    "        \"n\": n,\n",
    "        \"m\": m,\n",
    "        \"name\": f\"exp_distancias_{n}nodos_{m}ejes_[caracteristica].txt\",\n",
    "        \"absPath\": os.path.abspath(f\"{input_path}/exp_distancias_{n}nodos_{m}ejes_[caracteristica].txt\")\n",
    "    }\n",
    "    costos = []\n",
    "    for i in range(0,n):\n",
    "        costos.append(random.randint(1,100))\n",
    "                    \n",
    "    for caracteristica,indice in caracteristicas.items():\n",
    "        fileName = file[\"absPath\"].replace(\"[caracteristica]\",caracteristica)\n",
    "        with open(fileName, \"w\") as f:\n",
    "            f.write(f\"{n} {m}\\n\")\n",
    "            for costo in costos:\n",
    "                f.write(f\"{costo}\\n\")\n",
    "            for (src,dest) in ejes:\n",
    "                distancia = random.randint(100*indice[0],100*indice[1])\n",
    "                f.write(f\"{src} {dest} {distancia}\\n\")\n",
    "    files.append(file)"
   ]
  },
  {
   "cell_type": "code",
   "execution_count": 5,
   "metadata": {},
   "outputs": [],
   "source": [
    "def run(file, metodo):\n",
    "    completado = subprocess.run([\"../../Resolucion/bin/ej2\",file[\"absPath\"],str(metodo)], stdout=subprocess.PIPE, universal_newlines=True)\n",
    "    if completado.returncode != 0:\n",
    "        return \"ERROR: El programa finalizo de forma incorrecta. Parametros usados: k={0} metodo={1}\".format(k,metodo)\n",
    "    else:\n",
    "        return completado.stdout\n",
    "\n",
    "resultFile = f\"{input_path}/results.txt\"\n",
    "tiempos = \"./ej2_tiempos.csv\"\n",
    "with open(resultFile,\"a+\") as f:\n",
    "    for file in files:\n",
    "        for i in range(1,repeticiones):\n",
    "            if(file[\"n\"] < 5):\n",
    "                f.write(run(file, 0)) #Dijkstra Arreglo\n",
    "            f.write(run(file, 1)) #Dijkstra Cola\n",
    "            f.write(run(file, 2)) #BellmanFord\n",
    "            f.write(run(file, 3)) #FloydWarshall    "
   ]
  },
  {
   "cell_type": "code",
   "execution_count": 6,
   "metadata": {},
   "outputs": [],
   "source": [
    "csv = pandas.read_csv(tiempos)"
   ]
  },
  {
   "cell_type": "code",
   "execution_count": 7,
   "metadata": {},
   "outputs": [
    {
     "name": "stderr",
     "output_type": "stream",
     "text": [
      "/usr/lib/python3/dist-packages/numpy/core/fromnumeric.py:3118: RuntimeWarning: Mean of empty slice.\n",
      "  out=out, **kwargs)\n",
      "/usr/lib/python3/dist-packages/numpy/core/_methods.py:85: RuntimeWarning: invalid value encountered in double_scalars\n",
      "  ret = ret.dtype.type(ret / rcount)\n"
     ]
    },
    {
     "data": {
      "image/png": "[encoded data removed]",
      "text/plain": [
       "<Figure size 432x288 with 1 Axes>"
      ]
     },
     "metadata": {
      "needs_background": "light"
     },
     "output_type": "display_data"
    }
   ],
   "source": [
    "plt.clf()\n",
    "for method in csv[\"Metodo\"].unique():\n",
    "    csvOnlyNames = csv.dropna(subset=['Filename'])\n",
    "    methodResults = csvOnlyNames[csvOnlyNames[\"Metodo\"]==method]\n",
    "    resultsByN = [np.median(methodResults[methodResults[\"n\"] == n][\"Tiempo\"]) for n in tamanios]\n",
    "    plt.scatter(tamanios,resultsByN,label=method)\n",
    "    plt.plot(tamanios,resultsByN, linestyle='-')\n",
    "\n",
    "\n",
    "plt.legend();\n",
    "plt.xlabel(\"Valor de N\")\n",
    "plt.ylabel(\"Tiempo\");\n"
   ]
  },
  {
   "cell_type": "code",
   "execution_count": 8,
   "metadata": {
    "scrolled": true
   },
   "outputs": [
    {
     "data": {
      "image/png": "[encoded data removed]",
      "text/plain": [
       "<Figure size 432x288 with 1 Axes>"
      ]
     },
     "metadata": {
      "needs_background": "light"
     },
     "output_type": "display_data"
    }
   ],
   "source": [
    "plt.clf()\n",
    "for method in csv[\"Metodo\"].unique():\n",
    "    if method != \"Dijkstra\":\n",
    "        csvOnlyNames = csv.dropna(subset=['Filename'])\n",
    "        methodResults = csvOnlyNames[csvOnlyNames[\"Metodo\"]==method]\n",
    "        resultsByN = [np.median(methodResults[methodResults[\"n\"] == n][\"Tiempo\"]) for n in tamanios]\n",
    "        plt.scatter(tamanios,resultsByN,label=method)\n",
    "        plt.plot(tamanios,resultsByN, linestyle='-')\n",
    "\n",
    "plt.legend();\n",
    "plt.xlabel(\"Valor de N\")\n",
    "plt.ylabel(\"Tiempo\");"
   ]
  },
  {
   "cell_type": "markdown",
   "metadata": {},
   "source": [
    "### Corelación entre tiempo de ejecución y cota de algortimo para cada una de estructuras"
   ]
  },
  {
   "cell_type": "code",
   "execution_count": 9,
   "metadata": {},
   "outputs": [
    {
     "name": "stdout",
     "output_type": "stream",
     "text": [
      "Las cotas calculadas son para la obtención de los caminos de TODAS las ciudades, contemplando que el grafo sobre el cual se aplica el algoritmo tiene 60 veces la cantidad de nodos que el original\n",
      "El coeficiente de correlación de Pearson para Dijkstra con arreglo contra O(n^4) es: 0.9649990659844514\n",
      "El coeficiente de correlación de Pearson para Dijkstra con cola contra O(n^3*log(n)) es: 0.8370003592351584\n",
      "El coeficiente de correlación de Pearson para Floyd con contra O(n^3) es: 0.9787192605882413\n",
      "El coeficiente de correlación de Pearson para Bellman con contra O(n^3) es: 0.9918415260245826\n"
     ]
    }
   ],
   "source": [
    "csv[\"nodosEnH\"] = csv[\"n\"] * 60\n",
    "csv[\"logNodosEnH\"] = np.log(csv[\"nodosEnH\"])\n",
    "\n",
    "csv[\"cotaDijkstra-Arreglo\"] = csv[\"n\"] * csv[\"nodosEnH\"]**3\n",
    "csv[\"cotaDijkstra-Cola\"] = csv[\"n\"] * csv[\"nodosEnH\"]**2 * csv[\"logNodosEnH\"]\n",
    "csv[\"cotaFloyd\"] = csv[\"n\"] * csv[\"nodosEnH\"]**2\n",
    "csv[\"cotaBellman\"] = csv[\"n\"] * csv[\"nodosEnH\"]**3\n",
    "\n",
    "csvDijkstraArreglo = csv[csv[\"Metodo\"]==\"Dijkstra\"]\n",
    "csvDijkstraCola = csv[csv[\"Metodo\"]==\"Dijkstra con cola de prioridad\"]\n",
    "csvFloyd = csv[csv[\"Metodo\"]==\"Floyd-Warshall\"]\n",
    "csvBellman = csv[csv[\"Metodo\"]==\"Bellman-Ford\"]\n",
    "\n",
    "c_dijkstraArreglo = np.corrcoef(csvDijkstraArreglo[\"Tiempo\"], csvDijkstraArreglo[\"cotaDijkstra-Arreglo\"])[0, 1]\n",
    "c_dijkstraCola = np.corrcoef(csvDijkstraCola[\"Tiempo\"], csvDijkstraCola[\"cotaDijkstra-Cola\"])[0, 1]\n",
    "c_floyd = np.corrcoef(csvFloyd[\"Tiempo\"], csvFloyd[\"cotaFloyd\"])[0, 1]\n",
    "c_bellman = np.corrcoef(csvBellman[\"Tiempo\"], csvBellman[\"cotaBellman\"])[0, 1]\n",
    "\n",
    "print(\"Las cotas calculadas son para la obtención de los caminos de TODAS las ciudades, contemplando que el grafo sobre el cual se aplica el algoritmo tiene 60 veces la cantidad de nodos que el original\")\n",
    "print(f\"El coeficiente de correlación de Pearson para Dijkstra con arreglo contra O(n^4) es: {c_dijkstraArreglo}\")\n",
    "print(f\"El coeficiente de correlación de Pearson para Dijkstra con cola contra O(n^3*log(n)) es: {c_dijkstraCola}\")\n",
    "print(f\"El coeficiente de correlación de Pearson para Floyd con contra O(n^3) es: {c_floyd}\")\n",
    "print(f\"El coeficiente de correlación de Pearson para Bellman con contra O(n^3) es: {c_bellman}\")"
   ]
  },
  {
   "cell_type": "markdown",
   "metadata": {},
   "source": [
    "## Limpiar archivos"
   ]
  },
  {
   "cell_type": "code",
   "execution_count": 16,
   "metadata": {},
   "outputs": [],
   "source": [
    "for file in files:\n",
    "    for caracteristica,indice in caracteristicas.items():\n",
    "        fileName = file[\"absPath\"].replace(\"[caracteristica]\",caracteristica)\n",
    "        os.remove(fileName)"
   ]
  },
  {
   "cell_type": "code",
   "execution_count": null,
   "metadata": {},
   "outputs": [],
   "source": []
  }
 ],
 "metadata": {
  "kernelspec": {
   "display_name": "Python 3",
   "language": "python",
   "name": "python3"
  },
  "language_info": {
   "codemirror_mode": {
    "name": "ipython",
    "version": 3
   },
   "file_extension": ".py",
   "mimetype": "text/x-python",
   "name": "python",
   "nbconvert_exporter": "python",
   "pygments_lexer": "ipython3",
   "version": "3.6.8"
  }
 },
 "nbformat": 4,
 "nbformat_minor": 2
}
