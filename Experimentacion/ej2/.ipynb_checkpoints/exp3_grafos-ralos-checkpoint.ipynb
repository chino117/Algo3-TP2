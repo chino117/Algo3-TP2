{
 "cells": [
  {
   "cell_type": "code",
   "execution_count": 4,
   "metadata": {},
   "outputs": [],
   "source": [
    "import subprocess \n",
    "import os\n",
    "import sys\n",
    "import matplotlib.pyplot as plt\n",
    "import numpy as np\n",
    "import pandas\n",
    "import seaborn as sns\n",
    "import itertools\n",
    "import random\n",
    "import math"
   ]
  },
  {
   "cell_type": "code",
   "execution_count": 5,
   "metadata": {},
   "outputs": [],
   "source": [
    "# Cambiar el 0 por None para que sea random posta\n",
    "random.seed(0)"
   ]
  },
  {
   "cell_type": "markdown",
   "metadata": {},
   "source": [
    "## Generación de prueba"
   ]
  },
  {
   "cell_type": "code",
   "execution_count": 6,
   "metadata": {},
   "outputs": [],
   "source": [
    "def combinacionValida(n,ejes):\n",
    "    for i in range(n,1,-1):\n",
    "        if len([(x,y) for x,y in ejes if y == i or x == i]) == 0:\n",
    "            return False\n",
    "    return True\n",
    "\n",
    "def generar_casos_test(tamanios, input_path):\n",
    "    files = []\n",
    "    for n in tamanios:\n",
    "        ejes_posibles = list(itertools.combinations(range(1,n+1),2))\n",
    "\n",
    "        #<= 15% de ejes usados\n",
    "        m = random.randint(1,max(2,int(len(ejes_posibles)*0.15)))\n",
    "\n",
    "        random.shuffle(ejes_posibles)\n",
    "        while not combinacionValida(n,ejes_posibles[0:m]):\n",
    "            m = m + 1\n",
    "        ejes = ejes_posibles[0:m]\n",
    "\n",
    "        file = {\n",
    "            \"n\": n,\n",
    "            \"m\": m,\n",
    "            \"name\": f\"exp_random_ralo_{n}nodos_{m}ejes.txt\",\n",
    "            \"absPath\": os.path.abspath(f\"{input_path}/exp_random_ralo_{n}nodos_{m}ejes.txt\")\n",
    "        }\n",
    "\n",
    "        with open(file[\"absPath\"], \"w\") as f:\n",
    "            f.write(f\"{n} {m}\\n\")\n",
    "            for i in range(0,n):\n",
    "                costo = random.randint(1,100)\n",
    "                f.write(f\"{costo}\\n\")\n",
    "            for (src,dest) in ejes:\n",
    "                distancia = random.randint(1,100)\n",
    "                f.write(f\"{src} {dest} {distancia}\\n\")\n",
    "\n",
    "        files.append(file)\n",
    "    return files\n",
    "        \n",
    "def run(file, metodo):\n",
    "    completado = subprocess.run([\"../../Resolucion/bin/ej2\", file[\"absPath\"], str(metodo)], stdout=subprocess.PIPE, universal_newlines=True)\n",
    "    if completado.returncode != 0:\n",
    "        return \"ERROR: El programa finalizo de forma incorrecta. Parametros usados: k={0} metodo={1}\".format(k, metodo)\n",
    "    else:\n",
    "        return completado.stdout"
   ]
  },
  {
   "cell_type": "markdown",
   "metadata": {},
   "source": [
    "# Experimento: Tiempos cuando G es ralo"
   ]
  },
  {
   "cell_type": "markdown",
   "metadata": {},
   "source": [
    "## Primero probamos con todos"
   ]
  },
  {
   "cell_type": "code",
   "execution_count": 7,
   "metadata": {
    "scrolled": true
   },
   "outputs": [],
   "source": [
    "repeticiones=10\n",
    "input_path = \"../datos_entrada/ej2/\"\n",
    "tamanios=range(2,11)\n",
    "files = generar_casos_test(tamanios, input_path)"
   ]
  },
  {
   "cell_type": "code",
   "execution_count": 8,
   "metadata": {},
   "outputs": [],
   "source": [
    "resultFile = f\"{input_path}/results.txt\"\n",
    "tiempos = \"./ej2_ralo.csv\"\n",
    "with open(resultFile,\"a+\") as f:\n",
    "    for file in files:\n",
    "        for i in range(1,repeticiones):\n",
    "            if(file[\"n\"] < 6):\n",
    "                f.write(run(file,0)) #Dijkstra Arreglo\n",
    "            f.write(run(file,1)) #Dijkstra Cola\n",
    "            f.write(run(file,2)) #BellmanFord\n",
    "            f.write(run(file,3)) #FloydWarshall    "
   ]
  },
  {
   "cell_type": "code",
   "execution_count": 9,
   "metadata": {},
   "outputs": [],
   "source": [
    "csv = pandas.read_csv(tiempos)"
   ]
  },
  {
   "cell_type": "code",
   "execution_count": 10,
   "metadata": {
    "scrolled": true
   },
   "outputs": [
    {
     "name": "stderr",
     "output_type": "stream",
     "text": [
      "/usr/lib/python3/dist-packages/numpy/core/fromnumeric.py:3118: RuntimeWarning: Mean of empty slice.\n",
      "  out=out, **kwargs)\n",
      "/usr/lib/python3/dist-packages/numpy/core/_methods.py:85: RuntimeWarning: invalid value encountered in double_scalars\n",
      "  ret = ret.dtype.type(ret / rcount)\n"
     ]
    },
    {
     "data": {
      "image/png": "[encoded data removed]",
      "text/plain": [
       "<Figure size 432x288 with 1 Axes>"
      ]
     },
     "metadata": {
      "needs_background": "light"
     },
     "output_type": "display_data"
    }
   ],
   "source": [
    "plt.clf()\n",
    "for method in csv[\"Metodo\"].unique():\n",
    "    csvOnlyNames = csv.dropna(subset=['Filename'])\n",
    "    methodResults = csvOnlyNames[csvOnlyNames[\"Metodo\"]==method]\n",
    "    resultsByN = [np.median(methodResults[methodResults[\"n\"] == n][\"Tiempo\"]) for n in tamanios]\n",
    "    plt.scatter(tamanios,resultsByN,label=method)\n",
    "    plt.plot(tamanios,resultsByN, linestyle='-')\n",
    "\n",
    "\n",
    "plt.legend();\n",
    "plt.xlabel(\"Valor de N\")\n",
    "plt.ylabel(\"Tiempo(mseg)\");\n"
   ]
  },
  {
   "cell_type": "markdown",
   "metadata": {},
   "source": [
    "# Probamos sin dijkstra con arreglo"
   ]
  },
  {
   "cell_type": "code",
   "execution_count": 11,
   "metadata": {},
   "outputs": [],
   "source": [
    "repeticiones=10\n",
    "input_path = \"../datos_entrada/ej2/\"\n",
    "tamanios=range(11, 21)\n",
    "files = generar_casos_test(tamanios, input_path)"
   ]
  },
  {
   "cell_type": "code",
   "execution_count": 12,
   "metadata": {},
   "outputs": [],
   "source": [
    "resultFile = f\"{input_path}/results.txt\"\n",
    "tiempos = \"./ej2_ralo.csv\"\n",
    "with open(resultFile,\"a+\") as f:\n",
    "    for file in files:\n",
    "        for i in range(1,repeticiones):\n",
    "            f.write(run(file, 1)) #Dijkstra Cola\n",
    "            f.write(run(file, 2)) #BellmanFord\n",
    "            f.write(run(file, 3)) #FloydWarshall  "
   ]
  },
  {
   "cell_type": "code",
   "execution_count": 13,
   "metadata": {},
   "outputs": [],
   "source": [
    "csv = pandas.read_csv(tiempos)"
   ]
  },
  {
   "cell_type": "code",
   "execution_count": 14,
   "metadata": {
    "scrolled": true
   },
   "outputs": [
    {
     "data": {
      "image/png": "[encoded data removed]",
      "text/plain": [
       "<Figure size 432x288 with 1 Axes>"
      ]
     },
     "metadata": {
      "needs_background": "light"
     },
     "output_type": "display_data"
    }
   ],
   "source": [
    "plt.clf()\n",
    "for method in csv[\"Metodo\"].unique():\n",
    "    if method != \"Dijkstra\":\n",
    "        csvOnlyNames = csv.dropna(subset=['Filename'])\n",
    "        methodResults = csvOnlyNames[csvOnlyNames[\"Metodo\"]==method]\n",
    "        resultsByN = [np.median(methodResults[methodResults[\"n\"] == n][\"Tiempo\"]) for n in tamanios]\n",
    "        plt.scatter(tamanios,resultsByN,label=method)\n",
    "        plt.plot(tamanios,resultsByN, linestyle='-')\n",
    "\n",
    "plt.legend();\n",
    "plt.xlabel(\"Valor de N\")\n",
    "plt.ylabel(\"Tiempo(mseg)\");"
   ]
  },
  {
   "cell_type": "markdown",
   "metadata": {},
   "source": [
    "## Probamos sacando Bellman-Ford también"
   ]
  },
  {
   "cell_type": "code",
   "execution_count": 15,
   "metadata": {},
   "outputs": [],
   "source": [
    "repeticiones=10\n",
    "input_path = \"../datos_entrada/ej2/\"\n",
    "tamanios=range(20, 30)\n",
    "files = generar_casos_test(tamanios, input_path)"
   ]
  },
  {
   "cell_type": "code",
   "execution_count": 16,
   "metadata": {},
   "outputs": [],
   "source": [
    "resultFile = f\"{input_path}/results.txt\"\n",
    "tiempos = \"./ej2_ralo.csv\"\n",
    "with open(resultFile,\"a+\") as f:\n",
    "    for file in files:\n",
    "        for i in range(1,repeticiones):\n",
    "            f.write(run(file,1)) #Dijkstra Cola\n",
    "            f.write(run(file,3)) #FloydWarshall  "
   ]
  },
  {
   "cell_type": "code",
   "execution_count": 17,
   "metadata": {},
   "outputs": [],
   "source": [
    "csv = pandas.read_csv(tiempos)"
   ]
  },
  {
   "cell_type": "code",
   "execution_count": 18,
   "metadata": {},
   "outputs": [
    {
     "data": {
      "image/png": "[encoded data removed]",
      "text/plain": [
       "<Figure size 432x288 with 1 Axes>"
      ]
     },
     "metadata": {
      "needs_background": "light"
     },
     "output_type": "display_data"
    }
   ],
   "source": [
    "plt.clf()\n",
    "for method in csv[\"Metodo\"].unique():\n",
    "    if method != \"Dijkstra\" and method != \"Bellman-Ford\":\n",
    "        csvOnlyNames = csv.dropna(subset=['Filename'])\n",
    "        methodResults = csvOnlyNames[csvOnlyNames[\"Metodo\"]==method]\n",
    "        resultsByN = [np.median(methodResults[methodResults[\"n\"] == n][\"Tiempo\"]) for n in tamanios]\n",
    "        plt.scatter(tamanios,resultsByN,label=method)\n",
    "        plt.plot(tamanios,resultsByN, linestyle='-')\n",
    "\n",
    "plt.legend();\n",
    "plt.xlabel(\"Valor de N\")\n",
    "plt.ylabel(\"Tiempo(mseg)\");"
   ]
  },
  {
   "cell_type": "markdown",
   "metadata": {},
   "source": [
    "# Correlación entre tiempo de ejecución y cota de algortimo para cada una de estructuras"
   ]
  },
  {
   "cell_type": "code",
   "execution_count": 25,
   "metadata": {},
   "outputs": [
    {
     "name": "stdout",
     "output_type": "stream",
     "text": [
      "Las cotas calculadas son para la obtención de los caminos de TODAS las ciudades, contemplando que el grafo sobre el cual se aplica el algoritmo tiene 60 veces la cantidad de nodos que el original\n",
      "El coeficiente de correlación de Pearson para Dijkstra con arreglo contra O(n^3) es: 0.7653888989275099\n",
      "El coeficiente de correlación de Pearson para Dijkstra con cola contra O(n^2*log(n)) es: 0.9807565702748634\n",
      "El coeficiente de correlación de Pearson para Floyd con contra O(n^3) es: 0.9976786056067527\n",
      "El coeficiente de correlación de Pearson para Bellman con contra O(n^3) es: 0.9930101648132899\n"
     ]
    }
   ],
   "source": [
    "csv[\"nodosEnH\"] = csv[\"n\"] * 60\n",
    "csv[\"logNodosEnH\"] = np.log(csv[\"nodosEnH\"])\n",
    "\n",
    "csv[\"cotaDijkstra-Arreglo\"] = csv[\"n\"] * csv[\"nodosEnH\"]**2\n",
    "csv[\"cotaDijkstra-Cola\"] = csv[\"n\"] * csv[\"nodosEnH\"] * csv[\"logNodosEnH\"]\n",
    "csv[\"cotaFloyd\"] = csv[\"n\"] * csv[\"nodosEnH\"]**2\n",
    "csv[\"cotaBellman\"] = csv[\"n\"] * csv[\"nodosEnH\"]**2\n",
    "\n",
    "csvDijkstraArreglo = csv[csv[\"Metodo\"]==\"Dijkstra\"]\n",
    "csvDijkstraCola = csv[csv[\"Metodo\"]==\"Dijkstra con cola de prioridad\"]\n",
    "csvFloyd = csv[csv[\"Metodo\"]==\"Floyd-Warshall\"]\n",
    "csvBellman = csv[csv[\"Metodo\"]==\"Bellman-Ford\"]\n",
    "\n",
    "c_dijkstraArreglo = np.corrcoef(csvDijkstraArreglo[\"Tiempo\"], csvDijkstraArreglo[\"cotaDijkstra-Arreglo\"])[0, 1]\n",
    "c_dijkstraCola = np.corrcoef(csvDijkstraCola[\"Tiempo\"], csvDijkstraCola[\"cotaDijkstra-Cola\"])[0, 1]\n",
    "c_floyd = np.corrcoef(csvFloyd[\"Tiempo\"], csvFloyd[\"cotaFloyd\"])[0, 1]\n",
    "c_bellman = np.corrcoef(csvBellman[\"Tiempo\"], csvBellman[\"cotaBellman\"])[0, 1]\n",
    "\n",
    "print(\"Las cotas calculadas son para la obtención de los caminos de TODAS las ciudades, contemplando que el grafo sobre el cual se aplica el algoritmo tiene 60 veces la cantidad de nodos que el original\")\n",
    "print(f\"El coeficiente de correlación de Pearson para Dijkstra con arreglo contra O(n^3) es: {c_dijkstraArreglo}\")\n",
    "print(f\"El coeficiente de correlación de Pearson para Dijkstra con cola contra O(n^2*log(n)) es: {c_dijkstraCola}\")\n",
    "print(f\"El coeficiente de correlación de Pearson para Floyd con contra O(n^3) es: {c_floyd}\")\n",
    "print(f\"El coeficiente de correlación de Pearson para Bellman con contra O(n^3) es: {c_bellman}\")"
   ]
  }
 ],
 "metadata": {
  "kernelspec": {
   "display_name": "Python 3",
   "language": "python",
   "name": "python3"
  },
  "language_info": {
   "codemirror_mode": {
    "name": "ipython",
    "version": 3
   },
   "file_extension": ".py",
   "mimetype": "text/x-python",
   "name": "python",
   "nbconvert_exporter": "python",
   "pygments_lexer": "ipython3",
   "version": "3.7.3"
  }
 },
 "nbformat": 4,
 "nbformat_minor": 2
}
